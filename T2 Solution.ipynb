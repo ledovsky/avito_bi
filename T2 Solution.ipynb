{
 "cells": [
  {
   "cell_type": "code",
   "execution_count": 2,
   "metadata": {
    "collapsed": true
   },
   "outputs": [],
   "source": [
    "import pandas as pd\n",
    "import numpy as np\n",
    "\n",
    "from geoip import geolite2\n",
    "from tqdm import tqdm\n",
    "\n",
    "import matplotlib.pyplot as plt\n",
    "import seaborn as sns\n",
    "\n",
    "import re\n",
    "\n",
    "pd.set_option('display.max_rows', 500)\n",
    "pd.set_option('display.max_columns', 500)\n",
    "\n",
    "tqdm.pandas(desc=\"Progress\")\n",
    "\n",
    "%matplotlib inline"
   ]
  },
  {
   "cell_type": "code",
   "execution_count": 3,
   "metadata": {
    "collapsed": true
   },
   "outputs": [],
   "source": [
    "df = pd.read_csv('../raw_data/log.csv')\n",
    "df['event_date'] = pd.to_datetime(df['event_date'], errors='raise')"
   ]
  },
  {
   "cell_type": "code",
   "execution_count": 4,
   "metadata": {
    "collapsed": true
   },
   "outputs": [],
   "source": [
    "cookies = df.groupby('cookie_id')[u'event_date'].agg(['size'])"
   ]
  },
  {
   "cell_type": "code",
   "execution_count": 5,
   "metadata": {
    "collapsed": true
   },
   "outputs": [],
   "source": [
    "sample_sub = pd.read_csv('../raw_data/t2_sample_submission.csv')"
   ]
  },
  {
   "cell_type": "code",
   "execution_count": 6,
   "metadata": {
    "collapsed": true
   },
   "outputs": [],
   "source": [
    "cache = {}\n",
    "other_dict = []\n",
    "def process_agent(s):\n",
    "    if isinstance(s, float):\n",
    "        return 'NAN'\n",
    "    elif 'avito' in s.lower():\n",
    "        return 'AVITO'\n",
    "    elif 'mozilla' in s.lower():\n",
    "        return 'MOZILLA'\n",
    "    elif 'opera' in s.lower():\n",
    "        return 'OPERA'\n",
    "    elif re.search(r'^[\\w\\d]{8}-', s):\n",
    "        return 'HASH'\n",
    "    else:\n",
    "        other_dict.append(s)\n",
    "        return 'OTHER'\n",
    "    \n",
    "def process_agent_cached(s):\n",
    "    if s in cache:\n",
    "        return cache[s]\n",
    "    else:\n",
    "        res = process_agent(s)\n",
    "        cache[s] = res\n",
    "        return res"
   ]
  },
  {
   "cell_type": "code",
   "execution_count": 7,
   "metadata": {
    "collapsed": false
   },
   "outputs": [],
   "source": [
    "df['useragent_type'] = df['useragent'].apply(process_agent_cached)"
   ]
  },
  {
   "cell_type": "code",
   "execution_count": 8,
   "metadata": {
    "collapsed": false
   },
   "outputs": [],
   "source": [
    "cookies['unique_useragents'] = df.groupby('cookie_id')[u'useragent'].agg({'unique_agents': lambda x: x.unique().size})['unique_agents']"
   ]
  },
  {
   "cell_type": "code",
   "execution_count": 9,
   "metadata": {
    "collapsed": false
   },
   "outputs": [],
   "source": [
    "cookies['agent_types'] = df.groupby('cookie_id')[u'useragent_type'].agg({'agent_types': lambda x: '|'.join(np.sort(np.unique(x)))})['agent_types']"
   ]
  },
  {
   "cell_type": "code",
   "execution_count": 10,
   "metadata": {
    "collapsed": true
   },
   "outputs": [],
   "source": [
    "cookies['eventype'] = df.groupby(['cookie_id'])['eventype_name'].agg({'eventype': lambda a: a.iloc[0]})['eventype']"
   ]
  },
  {
   "cell_type": "code",
   "execution_count": 11,
   "metadata": {
    "collapsed": true
   },
   "outputs": [],
   "source": [
    "foo = df.groupby(['cookie_id', 'eventype_name'])['event_date'].agg(['size']).unstack('eventype_name')['size'].fillna(0)\n",
    "cookies = pd.concat([cookies, foo], axis=1)"
   ]
  },
  {
   "cell_type": "code",
   "execution_count": 12,
   "metadata": {
    "collapsed": true
   },
   "outputs": [],
   "source": [
    "cookies['unique_events'] = df.groupby('cookie_id')['eventype_name'].agg({'unique_events': lambda x: x.unique().size})['unique_events']"
   ]
  },
  {
   "cell_type": "code",
   "execution_count": 13,
   "metadata": {
    "collapsed": false
   },
   "outputs": [
    {
     "data": {
      "text/html": [
       "<div>\n",
       "<table border=\"1\" class=\"dataframe\">\n",
       "  <thead>\n",
       "    <tr style=\"text-align: right;\">\n",
       "      <th></th>\n",
       "      <th>size</th>\n",
       "    </tr>\n",
       "    <tr>\n",
       "      <th>agent_types</th>\n",
       "      <th></th>\n",
       "    </tr>\n",
       "  </thead>\n",
       "  <tbody>\n",
       "    <tr>\n",
       "      <th>MOZILLA</th>\n",
       "      <td>360302</td>\n",
       "    </tr>\n",
       "    <tr>\n",
       "      <th>AVITO</th>\n",
       "      <td>56794</td>\n",
       "    </tr>\n",
       "    <tr>\n",
       "      <th>NAN</th>\n",
       "      <td>12981</td>\n",
       "    </tr>\n",
       "    <tr>\n",
       "      <th>OTHER</th>\n",
       "      <td>3656</td>\n",
       "    </tr>\n",
       "    <tr>\n",
       "      <th>MOZILLA|NAN</th>\n",
       "      <td>1213</td>\n",
       "    </tr>\n",
       "    <tr>\n",
       "      <th>HASH</th>\n",
       "      <td>1126</td>\n",
       "    </tr>\n",
       "    <tr>\n",
       "      <th>OPERA</th>\n",
       "      <td>968</td>\n",
       "    </tr>\n",
       "    <tr>\n",
       "      <th>MOZILLA|OPERA</th>\n",
       "      <td>829</td>\n",
       "    </tr>\n",
       "    <tr>\n",
       "      <th>NAN|OPERA</th>\n",
       "      <td>226</td>\n",
       "    </tr>\n",
       "    <tr>\n",
       "      <th>MOZILLA|NAN|OPERA</th>\n",
       "      <td>209</td>\n",
       "    </tr>\n",
       "    <tr>\n",
       "      <th>MOZILLA|OTHER</th>\n",
       "      <td>130</td>\n",
       "    </tr>\n",
       "    <tr>\n",
       "      <th>AVITO|OTHER</th>\n",
       "      <td>101</td>\n",
       "    </tr>\n",
       "    <tr>\n",
       "      <th>NAN|OTHER</th>\n",
       "      <td>33</td>\n",
       "    </tr>\n",
       "    <tr>\n",
       "      <th>MOZILLA|NAN|OTHER</th>\n",
       "      <td>30</td>\n",
       "    </tr>\n",
       "    <tr>\n",
       "      <th>MOZILLA|OPERA|OTHER</th>\n",
       "      <td>28</td>\n",
       "    </tr>\n",
       "    <tr>\n",
       "      <th>OPERA|OTHER</th>\n",
       "      <td>21</td>\n",
       "    </tr>\n",
       "    <tr>\n",
       "      <th>NAN|OPERA|OTHER</th>\n",
       "      <td>6</td>\n",
       "    </tr>\n",
       "    <tr>\n",
       "      <th>MOZILLA|NAN|OPERA|OTHER</th>\n",
       "      <td>3</td>\n",
       "    </tr>\n",
       "    <tr>\n",
       "      <th>AVITO|MOZILLA</th>\n",
       "      <td>1</td>\n",
       "    </tr>\n",
       "  </tbody>\n",
       "</table>\n",
       "</div>"
      ],
      "text/plain": [
       "                           size\n",
       "agent_types                    \n",
       "MOZILLA                  360302\n",
       "AVITO                     56794\n",
       "NAN                       12981\n",
       "OTHER                      3656\n",
       "MOZILLA|NAN                1213\n",
       "HASH                       1126\n",
       "OPERA                       968\n",
       "MOZILLA|OPERA               829\n",
       "NAN|OPERA                   226\n",
       "MOZILLA|NAN|OPERA           209\n",
       "MOZILLA|OTHER               130\n",
       "AVITO|OTHER                 101\n",
       "NAN|OTHER                    33\n",
       "MOZILLA|NAN|OTHER            30\n",
       "MOZILLA|OPERA|OTHER          28\n",
       "OPERA|OTHER                  21\n",
       "NAN|OPERA|OTHER               6\n",
       "MOZILLA|NAN|OPERA|OTHER       3\n",
       "AVITO|MOZILLA                 1"
      ]
     },
     "execution_count": 13,
     "metadata": {},
     "output_type": "execute_result"
    }
   ],
   "source": [
    "cookies.groupby('agent_types')['size'].agg(['size']).sort_values('size', ascending=False)"
   ]
  },
  {
   "cell_type": "code",
   "execution_count": 14,
   "metadata": {
    "collapsed": false
   },
   "outputs": [
    {
     "data": {
      "text/plain": [
       "<matplotlib.axes._subplots.AxesSubplot at 0x7f7b98c21f50>"
      ]
     },
     "execution_count": 14,
     "metadata": {},
     "output_type": "execute_result"
    },
    {
     "data": {
      "image/png": "[encoded data removed]",
      "text/plain": [
       "<matplotlib.figure.Figure at 0x7f7b85d1df90>"
      ]
     },
     "metadata": {},
     "output_type": "display_data"
    }
   ],
   "source": [
    "cookies['unique_useragents'].hist(log=True)"
   ]
  },
  {
   "cell_type": "code",
   "execution_count": 15,
   "metadata": {
    "collapsed": true
   },
   "outputs": [],
   "source": [
    "cookies_f = cookies[cookies['size'] < 25000]"
   ]
  },
  {
   "cell_type": "code",
   "execution_count": 16,
   "metadata": {
    "collapsed": false
   },
   "outputs": [
    {
     "data": {
      "text/plain": [
       "<matplotlib.collections.PathCollection at 0x7f7b82e73c10>"
      ]
     },
     "execution_count": 16,
     "metadata": {},
     "output_type": "execute_result"
    },
    {
     "data": {
      "image/png": "[encoded data removed]",
      "text/plain": [
       "<matplotlib.figure.Figure at 0x7f7b85020e90>"
      ]
     },
     "metadata": {},
     "output_type": "display_data"
    }
   ],
   "source": [
    "fig, ax = plt.subplots(figsize=[10, 5])\n",
    "plt.axis([0, 25000, 0, 40])\n",
    "plt.scatter(cookies_f['size'], cookies_f['unique_useragents'])"
   ]
  },
  {
   "cell_type": "code",
   "execution_count": 17,
   "metadata": {
    "collapsed": false
   },
   "outputs": [
    {
     "data": {
      "text/plain": [
       "(438657, 28)"
      ]
     },
     "execution_count": 17,
     "metadata": {},
     "output_type": "execute_result"
    }
   ],
   "source": [
    "cookies.shape"
   ]
  },
  {
   "cell_type": "code",
   "execution_count": 18,
   "metadata": {
    "collapsed": true
   },
   "outputs": [],
   "source": [
    "cookies_1 = cookies[(cookies['size'] < 25000) & (cookies['agent_types'] == 'AVITO')]\n",
    "cookies_2 = cookies[(cookies['size'] < 25000) & (cookies['agent_types'].isin(['MOZILLA', 'OPERA']))]\n",
    "cookies_3 = cookies[(cookies['size'] < 25000) & ~(cookies['agent_types'].isin(['AVITO', 'MOZILLA', 'OPERA']))]"
   ]
  },
  {
   "cell_type": "markdown",
   "metadata": {},
   "source": [
    "#### Исследуем cookies с приложений AVITO"
   ]
  },
  {
   "cell_type": "code",
   "execution_count": 19,
   "metadata": {
    "collapsed": false
   },
   "outputs": [
    {
     "data": {
      "text/plain": [
       "(56792, 28)"
      ]
     },
     "execution_count": 19,
     "metadata": {},
     "output_type": "execute_result"
    }
   ],
   "source": [
    "cookies_1.shape"
   ]
  },
  {
   "cell_type": "code",
   "execution_count": 20,
   "metadata": {
    "collapsed": false
   },
   "outputs": [
    {
     "data": {
      "text/plain": [
       "(6124, 28)"
      ]
     },
     "execution_count": 20,
     "metadata": {},
     "output_type": "execute_result"
    }
   ],
   "source": [
    "cookies_1[cookies_1['unique_useragents'] > 2].shape"
   ]
  },
  {
   "cell_type": "code",
   "execution_count": 21,
   "metadata": {
    "collapsed": false
   },
   "outputs": [
    {
     "data": {
      "text/plain": [
       "<matplotlib.collections.PathCollection at 0x7f7b9892dc10>"
      ]
     },
     "execution_count": 21,
     "metadata": {},
     "output_type": "execute_result"
    },
    {
     "data": {
      "image/png": "[encoded data removed]",
      "text/plain": [
       "<matplotlib.figure.Figure at 0x7f7b90e20a50>"
      ]
     },
     "metadata": {},
     "output_type": "display_data"
    }
   ],
   "source": [
    "fig, ax = plt.subplots(figsize=[10, 5])\n",
    "plt.axis([0, 25000, 0, 40])\n",
    "plt.scatter(cookies_1['size'], cookies_1['unique_useragents'])"
   ]
  },
  {
   "cell_type": "markdown",
   "metadata": {},
   "source": [
    "#### Исследуем cookies с браузеров MOZILLA и OPERA"
   ]
  },
  {
   "cell_type": "markdown",
   "metadata": {},
   "source": [
    "Мало тех, кто делал много запросов. У них был только один агент"
   ]
  },
  {
   "cell_type": "code",
   "execution_count": 22,
   "metadata": {
    "collapsed": false
   },
   "outputs": [
    {
     "data": {
      "text/plain": [
       "(113, 28)"
      ]
     },
     "execution_count": 22,
     "metadata": {},
     "output_type": "execute_result"
    }
   ],
   "source": [
    "cookies_2[cookies_2['size'] > 50].shape"
   ]
  },
  {
   "cell_type": "markdown",
   "metadata": {},
   "source": [
    "Есть те, кто делал мало запросов, но у них менялся агент!"
   ]
  },
  {
   "cell_type": "code",
   "execution_count": 23,
   "metadata": {
    "collapsed": false
   },
   "outputs": [
    {
     "data": {
      "text/plain": [
       "(1519, 28)"
      ]
     },
     "execution_count": 23,
     "metadata": {},
     "output_type": "execute_result"
    }
   ],
   "source": [
    "cookies_2[(cookies_2['size'] < 50) & (cookies_2['unique_useragents'] > 1)].shape"
   ]
  },
  {
   "cell_type": "markdown",
   "metadata": {},
   "source": [
    "В основном это те, кто смотрел мало с одного агента"
   ]
  },
  {
   "cell_type": "code",
   "execution_count": 24,
   "metadata": {
    "collapsed": false
   },
   "outputs": [
    {
     "data": {
      "text/plain": [
       "(359638, 28)"
      ]
     },
     "execution_count": 24,
     "metadata": {},
     "output_type": "execute_result"
    }
   ],
   "source": [
    "cookies_2[(cookies_2['size'] < 50) & (cookies_2['unique_useragents'] == 1)].shape"
   ]
  },
  {
   "cell_type": "code",
   "execution_count": 25,
   "metadata": {
    "collapsed": false
   },
   "outputs": [
    {
     "data": {
      "text/plain": [
       "<matplotlib.collections.PathCollection at 0x7f7b8c25bb90>"
      ]
     },
     "execution_count": 25,
     "metadata": {},
     "output_type": "execute_result"
    },
    {
     "data": {
      "image/png": "[encoded data removed]",
      "text/plain": [
       "<matplotlib.figure.Figure at 0x7f7b97a63790>"
      ]
     },
     "metadata": {},
     "output_type": "display_data"
    }
   ],
   "source": [
    "fig, ax = plt.subplots(figsize=[10, 5])\n",
    "plt.axis([0, 500, 0, 40])\n",
    "plt.scatter(cookies_2['size'], cookies_2['unique_useragents'])"
   ]
  },
  {
   "cell_type": "markdown",
   "metadata": {},
   "source": [
    "#### Исследуем cookies с \"плохими\" агентами. Они включают в себя OTHER, HASH и смеси различных типов агентов"
   ]
  },
  {
   "cell_type": "code",
   "execution_count": 26,
   "metadata": {
    "collapsed": false
   },
   "outputs": [
    {
     "data": {
      "text/plain": [
       "(20592, 28)"
      ]
     },
     "execution_count": 26,
     "metadata": {},
     "output_type": "execute_result"
    }
   ],
   "source": [
    "cookies_3.shape"
   ]
  },
  {
   "cell_type": "code",
   "execution_count": 27,
   "metadata": {
    "collapsed": false
   },
   "outputs": [
    {
     "data": {
      "text/plain": [
       "<matplotlib.collections.PathCollection at 0x7f7b86b5d890>"
      ]
     },
     "execution_count": 27,
     "metadata": {},
     "output_type": "execute_result"
    },
    {
     "data": {
      "image/png": "[encoded data removed]",
      "text/plain": [
       "<matplotlib.figure.Figure at 0x7f7b91429210>"
      ]
     },
     "metadata": {},
     "output_type": "display_data"
    }
   ],
   "source": [
    "fig, ax = plt.subplots(figsize=[10, 5])\n",
    "plt.axis([0, 25000, 0, 40])\n",
    "plt.scatter(cookies_3['size'], cookies_3['unique_useragents'])"
   ]
  },
  {
   "cell_type": "markdown",
   "metadata": {},
   "source": [
    "## Финальный сабмишн"
   ]
  },
  {
   "cell_type": "code",
   "execution_count": 28,
   "metadata": {
    "collapsed": true
   },
   "outputs": [],
   "source": [
    "strange_avito = cookies_1[((cookies_1['unique_events'] < 2) & (cookies_1['eventype'] == 'Items Search') | (cookies_1['unique_useragents'] > 2)) | ((cookies_1['unique_events'] == 2) & (cookies_1['unique_useragents'] == 2)) | (cookies_1['size'] > 4000)]"
   ]
  },
  {
   "cell_type": "code",
   "execution_count": 29,
   "metadata": {
    "collapsed": true
   },
   "outputs": [],
   "source": [
    "sample_sub.loc[:, 'IsHuman'] = 0\n",
    "sample_sub.loc[cookies_1.index, 'IsHuman'] = 1\n",
    "sample_sub.loc[strange_avito.index, 'IsHuman'] = 0\n",
    "sample_sub.to_csv('../submissions/t2_0902_avito_with_corr_2.csv', index=False)"
   ]
  },
  {
   "cell_type": "code",
   "execution_count": 30,
   "metadata": {
    "collapsed": false
   },
   "outputs": [
    {
     "data": {
      "text/plain": [
       "48531"
      ]
     },
     "execution_count": 30,
     "metadata": {},
     "output_type": "execute_result"
    }
   ],
   "source": [
    "(sample_sub['IsHuman'] == 1).sum()"
   ]
  }
 ],
 "metadata": {
  "anaconda-cloud": {},
  "kernelspec": {
   "display_name": "Python [conda root]",
   "language": "python",
   "name": "conda-root-py"
  },
  "language_info": {
   "codemirror_mode": {
    "name": "ipython",
    "version": 2
   },
   "file_extension": ".py",
   "mimetype": "text/x-python",
   "name": "python",
   "nbconvert_exporter": "python",
   "pygments_lexer": "ipython2",
   "version": "2.7.12"
  }
 },
 "nbformat": 4,
 "nbformat_minor": 1
}
